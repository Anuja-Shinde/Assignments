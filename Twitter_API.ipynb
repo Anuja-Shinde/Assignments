{
 "cells": [
  {
   "cell_type": "code",
   "execution_count": 1,
   "id": "eac80899",
   "metadata": {},
   "outputs": [],
   "source": [
    "import os\n",
    "import tweepy as tw\n",
    "import pandas as pd"
   ]
  },
  {
   "cell_type": "code",
   "execution_count": 2,
   "id": "7516074e",
   "metadata": {},
   "outputs": [],
   "source": [
    "consumer_key= 'RsMNBynyaWytppEtIKNd5gkCx'\n",
    "consumer_secret= 'apkw6TFQ6GnDZG7PeO4pUKcffy23QHHRieotfUzq55qNGG9JiC'\n",
    "access_token= '1591200265495089153-FRT0Vlmn2um8wc2iOSKBYhAdncIjUu'\n",
    "access_token_secret= 'xTmFE7OGaqJiStK3I4ysbNsYVTojeHnZLNYig92KKd5Zu'"
   ]
  },
  {
   "cell_type": "code",
   "execution_count": 3,
   "id": "fb7557f0",
   "metadata": {},
   "outputs": [],
   "source": [
    "auth = tw.OAuthHandler(consumer_key, consumer_secret)\n",
    "auth.set_access_token(access_token, access_token_secret)\n",
    "api = tw.API(auth, wait_on_rate_limit=True)"
   ]
  },
  {
   "cell_type": "code",
   "execution_count": 4,
   "id": "8a01818d",
   "metadata": {},
   "outputs": [],
   "source": [
    "# Define the search term and the date_since date as variables\n",
    "search_words = \"Brigham and Women's Hospital\"\n",
    "date_since = \"2007-04-01\""
   ]
  },
  {
   "cell_type": "code",
   "execution_count": null,
   "id": "076fe90c",
   "metadata": {},
   "outputs": [],
   "source": [
    "# Collect tweets\n",
    "tweets = tw.Cursor(api.search,\n",
    "              q=search_words,\n",
    "              lang=\"en\",\n",
    "              since=date_since).items(100)\n",
    "\n",
    "# Iterate and print tweets\n",
    "for tweet in tweets:\n",
    "    print(tweet.text)"
   ]
  },
  {
   "cell_type": "code",
   "execution_count": null,
   "id": "ff0b78d2",
   "metadata": {},
   "outputs": [],
   "source": [
    "# Collect tweets\n",
    "tweets = tw.Cursor(api.search,\n",
    "                       q=search_words,\n",
    "                       lang=\"en\",\n",
    "                       since=date_since).items(5)\n",
    "\n",
    "# Collect a list of tweets\n",
    "[tweet.text for tweet in tweets]"
   ]
  },
  {
   "cell_type": "code",
   "execution_count": null,
   "id": "e42c1464",
   "metadata": {},
   "outputs": [],
   "source": [
    "new_search = search_words + \" -filter:retweets\"\n",
    "new_search\n",
    "\n",
    "tweets = tw.Cursor(api.search,\n",
    "                       q=new_search,\n",
    "                       lang=\"en\",\n",
    "                       since=date_since).items(5)\n",
    "\n",
    "[tweet.text for tweet in tweets]"
   ]
  },
  {
   "cell_type": "code",
   "execution_count": null,
   "id": "ec1685bb",
   "metadata": {},
   "outputs": [],
   "source": [
    "tweets = tw.Cursor(api.search, \n",
    "                           q=new_search,\n",
    "                           lang=\"en\",\n",
    "                           since=date_since).items(5)\n",
    "\n",
    "users_locs = [[tweet.user.screen_name, tweet.user.location] for tweet in tweets]\n",
    "users_locs"
   ]
  },
  {
   "cell_type": "code",
   "execution_count": null,
   "id": "0ec46126",
   "metadata": {},
   "outputs": [],
   "source": [
    "tweet_hospital_account = pd.DataFrame(data=Hospital_Account, \n",
    "                    columns=[\"Twitter_handle\", \"login\", \"password\"])"
   ]
  },
  {
   "cell_type": "code",
   "execution_count": null,
   "id": "a896c332",
   "metadata": {},
   "outputs": [],
   "source": [
    "tweet_payment = pd.DataFrame(data=Payment, \n",
    "                    columns=['payment_id', \"payment_details\", \"payment_date”, “total_amount”, “Twitter_handle”, “appointment_id”])"
   ]
  },
  {
   "cell_type": "code",
   "execution_count": null,
   "id": "0f0cca45",
   "metadata": {},
   "outputs": [],
   "source": [
    "tweet_appointment = pd.DataFrame(data=Appointment, \n",
    "                    columns=['appointment_id', \"appointment_reason\", \"appointment_date”, “Twitter_handle” , “patient_id”, “doctor_id”])"
   ]
  },
  {
   "cell_type": "code",
   "execution_count": null,
   "id": "8734571b",
   "metadata": {},
   "outputs": [],
   "source": [
    "tweet_doctor = pd.DataFrame(data=Doctor, \n",
    "                    columns=['doctor_id', \"doctor_name\", \"doctor_speciality”, “doctor_location” , “doctor_language”, “doctor_gender”, “Twitter_handle”, “appointment_id”])\n"
   ]
  },
  {
   "cell_type": "code",
   "execution_count": null,
   "id": "1efddd11",
   "metadata": {},
   "outputs": [],
   "source": [
    "tweet_patient = pd.DataFrame(data=Patient, \n",
    "                    columns=['patient_id', \"patient_name\", \"patient_email”, “patient_phone” , “department_schedule”, “Twitter_handle”, “appointment_id”])"
   ]
  },
  {
   "cell_type": "code",
   "execution_count": null,
   "id": "abf4a217",
   "metadata": {},
   "outputs": [],
   "source": [
    "tweet_user = pd.DataFrame(data=User, \n",
    "                    columns=[\"Twitter_handle\", \"name\", \"profile_image_url\", \"description\", \"followers_count\", \"following_count\"])"
   ]
  },
  {
   "cell_type": "code",
   "execution_count": null,
   "id": "eb9272d6",
   "metadata": {},
   "outputs": [],
   "source": [
    "tweet_tweets = pd.DataFrame(data=Tweets, \n",
    "                    columns=[\"tweet_id\",\"Twitter_handle\", \"tweet_text\", \"profile_image_url\", \"created_at\"])"
   ]
  },
  {
   "cell_type": "code",
   "execution_count": null,
   "id": "f2ad2188",
   "metadata": {},
   "outputs": [],
   "source": [
    "tweet_tags = pd.DataFrame(data=Tags, \n",
    "                    columns=[\"tweet_id\", \"tags\"])"
   ]
  },
  {
   "cell_type": "code",
   "execution_count": null,
   "id": "ac972446",
   "metadata": {},
   "outputs": [],
   "source": [
    "tweet_url = pd.DataFrame(data=Tweet_Url, \n",
    "                    columns=[\"tweet_id\", \"product_url\"])"
   ]
  },
  {
   "cell_type": "code",
   "execution_count": null,
   "id": "70162e2f",
   "metadata": {},
   "outputs": [],
   "source": [
    "tweet_mentions = pd.DataFrame(data=Tweet_Mentions, \n",
    "                    columns=['tweet_id', \"source_user\", \"target_user”])"
   ]
  },
  {
   "cell_type": "code",
   "execution_count": null,
   "id": "d924f043",
   "metadata": {},
   "outputs": [],
   "source": [
    "tweet_hospital_account.to_sql(con = my_connection, name= 'Hospital_Account', if_exists = 'append', index = False)"
   ]
  },
  {
   "cell_type": "code",
   "execution_count": null,
   "id": "51872503",
   "metadata": {},
   "outputs": [],
   "source": [
    "tweet_payment.to_sql(con = my_connection, name= 'Payment', if_exists = 'append', index = False)"
   ]
  },
  {
   "cell_type": "code",
   "execution_count": null,
   "id": "9f202220",
   "metadata": {},
   "outputs": [],
   "source": [
    "tweet_appointment.to_sql(con = my_connection, name= 'Appointment', if_exists = 'append', index = False)"
   ]
  },
  {
   "cell_type": "code",
   "execution_count": null,
   "id": "e9849f91",
   "metadata": {},
   "outputs": [],
   "source": [
    "tweet_doctor.to_sql(con = my_connection, name= 'Doctor', if_exists = 'append', index = False)"
   ]
  },
  {
   "cell_type": "code",
   "execution_count": null,
   "id": "df8ae798",
   "metadata": {},
   "outputs": [],
   "source": [
    "tweet_patient.to_sql(con = my_connection, name= 'Patient', if_exists = 'append', index = False)"
   ]
  },
  {
   "cell_type": "code",
   "execution_count": null,
   "id": "9c328a1f",
   "metadata": {},
   "outputs": [],
   "source": [
    "tweet_user.to_sql(con = my_connection, name= 'User', if_exists = 'append', index = False)"
   ]
  },
  {
   "cell_type": "code",
   "execution_count": null,
   "id": "c568a002",
   "metadata": {},
   "outputs": [],
   "source": [
    "tweet_tags.to_sql(con = my_connection, name= 'Tags', if_exists = 'append', index = False)"
   ]
  },
  {
   "cell_type": "code",
   "execution_count": null,
   "id": "06590ecf",
   "metadata": {},
   "outputs": [],
   "source": [
    "tweet_url.to_sql(con = my_connection, name= 'Tweet_Url', if_exists = 'append', index = False)"
   ]
  },
  {
   "cell_type": "code",
   "execution_count": null,
   "id": "3ff34868",
   "metadata": {},
   "outputs": [],
   "source": [
    "tweet_mentions.to_sql(con = my_connection, name= 'Tweet_Mentions', if_exists = 'append', index = False)"
   ]
  }
 ],
 "metadata": {
  "kernelspec": {
   "display_name": "Python 3 (ipykernel)",
   "language": "python",
   "name": "python3"
  },
  "language_info": {
   "codemirror_mode": {
    "name": "ipython",
    "version": 3
   },
   "file_extension": ".py",
   "mimetype": "text/x-python",
   "name": "python",
   "nbconvert_exporter": "python",
   "pygments_lexer": "ipython3",
   "version": "3.9.13"
  }
 },
 "nbformat": 4,
 "nbformat_minor": 5
}
