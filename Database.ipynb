{
 "cells": [
  {
   "cell_type": "code",
   "execution_count": 1,
   "id": "5cc91d84",
   "metadata": {},
   "outputs": [
    {
     "name": "stdout",
     "output_type": "stream",
     "text": [
      "Requirement already satisfied: SQLAlchemy in c:\\users\\shinde\\anaconda\\lib\\site-packages (1.4.39)\n",
      "Requirement already satisfied: greenlet!=0.4.17 in c:\\users\\shinde\\anaconda\\lib\\site-packages (from SQLAlchemy) (1.1.1)\n",
      "Note: you may need to restart the kernel to use updated packages.\n"
     ]
    }
   ],
   "source": [
    "pip install SQLAlchemy"
   ]
  },
  {
   "cell_type": "code",
   "execution_count": 2,
   "id": "cc8e176c",
   "metadata": {},
   "outputs": [
    {
     "name": "stdout",
     "output_type": "stream",
     "text": [
      "Collecting pymysql\n",
      "  Downloading PyMySQL-1.0.2-py3-none-any.whl (43 kB)\n",
      "     -------------------------------------- 43.8/43.8 kB 308.1 kB/s eta 0:00:00\n",
      "Installing collected packages: pymysql\n",
      "Successfully installed pymysql-1.0.2\n",
      "Note: you may need to restart the kernel to use updated packages.\n"
     ]
    }
   ],
   "source": [
    "pip install pymysql"
   ]
  },
  {
   "cell_type": "code",
   "execution_count": 3,
   "id": "a8900749",
   "metadata": {},
   "outputs": [],
   "source": [
    "import pymysql"
   ]
  },
  {
   "cell_type": "code",
   "execution_count": 4,
   "id": "5f155694",
   "metadata": {},
   "outputs": [],
   "source": [
    "pymysql.install_as_MySQLdb()"
   ]
  },
  {
   "cell_type": "code",
   "execution_count": 5,
   "id": "a4197b4c",
   "metadata": {},
   "outputs": [],
   "source": [
    "import MySQLdb\n",
    "import xlrd"
   ]
  },
  {
   "cell_type": "code",
   "execution_count": 7,
   "id": "b30a0f93",
   "metadata": {},
   "outputs": [],
   "source": [
    "database = MySQLdb.connect(host = \"localhost\", user = \"root\", passwd = \"MySQL1786@\", db =\"TwitterDB\")"
   ]
  },
  {
   "cell_type": "code",
   "execution_count": 8,
   "id": "66a82909",
   "metadata": {},
   "outputs": [],
   "source": [
    "cursor = database.cursor()"
   ]
  },
  {
   "cell_type": "code",
   "execution_count": 9,
   "id": "edc923d4",
   "metadata": {
    "scrolled": true
   },
   "outputs": [
    {
     "data": {
      "text/plain": [
       "0"
      ]
     },
     "execution_count": 9,
     "metadata": {},
     "output_type": "execute_result"
    }
   ],
   "source": [
    "hospital_twitter_table = (\"CREATE TABLE IF NOT EXISTS `User` (`Twitter_handle` VARCHAR(10),`name` VARCHAR(20),`profile_image_url` VARCHAR(200),`description` VARCHAR(100),`followers_count` INT,`following_count` INT,PRIMARY KEY (`Twitter_handle`))\")\n",
    "cursor.execute(hospital_twitter_table)"
   ]
  },
  {
   "cell_type": "code",
   "execution_count": 10,
   "id": "b0e88330",
   "metadata": {},
   "outputs": [
    {
     "data": {
      "text/plain": [
       "0"
      ]
     },
     "execution_count": 10,
     "metadata": {},
     "output_type": "execute_result"
    }
   ],
   "source": [
    "hospital_tweets = (\"CREATE TABLE IF NOT EXISTS `Tweets` (`tweet_id` INT NOT NULL AUTO_INCREMENT,`Twitter_handle` VARCHAR(10),`tweet_text` VARCHAR(140),`profile_image_url` VARCHAR(200),`created_at` DATETIME,PRIMARY KEY (`tweet_id`))\")\n",
    "cursor.execute(hospital_tweets)"
   ]
  },
  {
   "cell_type": "code",
   "execution_count": 11,
   "id": "94edf549",
   "metadata": {},
   "outputs": [
    {
     "data": {
      "text/plain": [
       "0"
      ]
     },
     "execution_count": 11,
     "metadata": {},
     "output_type": "execute_result"
    }
   ],
   "source": [
    "hospital_tweets_table = (\"CREATE TABLE IF NOT EXISTS `Tweet_Tags` (`tweet_id` INT NOT NULL,`tags` VARCHAR(20),PRIMARY KEY (`tweet_id`))\")\n",
    "cursor.execute(hospital_tweets_table)"
   ]
  },
  {
   "cell_type": "code",
   "execution_count": 12,
   "id": "c09a9775",
   "metadata": {},
   "outputs": [
    {
     "data": {
      "text/plain": [
       "0"
      ]
     },
     "execution_count": 12,
     "metadata": {},
     "output_type": "execute_result"
    }
   ],
   "source": [
    "hospital_tweet_mention = (\"CREATE TABLE IF NOT EXISTS `Tweet_Mentions` (`tweet_id` INT NOT NULL,`source_user` VARCHAR(10),`target_user` VARCHAR(10),PRIMARY KEY (`tweet_id`))\")\n",
    "cursor.execute(hospital_tweet_mention)"
   ]
  },
  {
   "cell_type": "code",
   "execution_count": 13,
   "id": "016a97a7",
   "metadata": {},
   "outputs": [
    {
     "data": {
      "text/plain": [
       "0"
      ]
     },
     "execution_count": 13,
     "metadata": {},
     "output_type": "execute_result"
    }
   ],
   "source": [
    "hospital_tweet_url = (\"CREATE TABLE IF NOT EXISTS `Tweet_Url` (`tweet_id` INT NOT NULL,‘product_url’ VARCHAR(200),PRIMARY KEY (`tweet_id`))\")\n",
    "cursor.execute(hospital_tweet_url)\n",
    "\n",
    "hospital_account  = (\"CREATE TABLE IF NOT EXISTS `Hospital_Account` (`Twitter_handle` VARCHAR(10) NOT NULL,`login` VARCHAR(10),`password` VARCHAR(10),PRIMARY KEY (`Twitter_handle`))\")\n",
    "cursor.execute(hospital_account)\n",
    "\n",
    "hospital_patient = (\"CREATE TABLE IF NOT EXISTS `Patient` (`patient_id` INT NOT NULL AUTO_INCREMENT,`patient_name` VARCHAR(20),`patient_email` VARCHAR(20),`patient_phone` INT,`department_schedule` VARCHAR(20),`Twitter_handle` VARCHAR(10),`appointment_id` INT,PRIMARY KEY (`patient_id`))\")\n",
    "cursor.execute(hospital_patient)\n",
    "\n",
    "hospital_doctor = (\"CREATE TABLE IF NOT EXISTS `Doctor` (`doctor_id` INT NOT NULL AUTO_INCREMENT,`doctor_name` VARCHAR(20),`doctor_speciality` VARCHAR(20),`doctor_location` VARCHAR(100),`doctor_language` VARCHAR(20),`doctor_gender` VARCHAR(20),`Twitter_handle` VARCHAR(10),`appointment_id` INT,PRIMARY KEY (`doctor_id`))\")\n",
    "cursor.execute(hospital_doctor)"
   ]
  },
  {
   "cell_type": "code",
   "execution_count": 14,
   "id": "f3978d77",
   "metadata": {},
   "outputs": [
    {
     "data": {
      "text/plain": [
       "0"
      ]
     },
     "execution_count": 14,
     "metadata": {},
     "output_type": "execute_result"
    }
   ],
   "source": [
    "hospital_appointment = (\"CREATE TABLE IF NOT EXISTS `Appointment` (`appointment_id` INT NOT NULL AUTO_INCREMENT,`appointment_reason` VARCHAR(100),`appointment_date` DATE,`Twitter_handle` VARCHAR(10),`patient_id` INT, `doctor_id` INT,PRIMARY KEY (`appointment_id`))\")\n",
    "cursor.execute(hospital_appointment)\n",
    "\n",
    "hospital_payment = (\"CREATE TABLE IF NOT EXISTS `Payment` (`payment_id` INT NOT NULL AUTO_INCREMENT,`payment_details` VARCHAR(100),`payment_date` DATE,`total_amount` INT,`Twitter_handle` VARCHAR(10),`appointment_id` INT,PRIMARY KEY (`payment_id`))\")\n",
    "cursor.execute(hospital_payment)"
   ]
  },
  {
   "cell_type": "code",
   "execution_count": 15,
   "id": "4c46e9b9",
   "metadata": {},
   "outputs": [
    {
     "data": {
      "text/plain": [
       "0"
      ]
     },
     "execution_count": 15,
     "metadata": {},
     "output_type": "execute_result"
    }
   ],
   "source": [
    "alter_query = (\"ALTER TABLE `Tweet_Tags`ADD CONSTRAINT `Tweet_Tags_fk1` FOREIGN KEY (`tweet_id`)REFERENCES Tweets(`tweet_id`)\")\n",
    "cursor.execute(alter_query)"
   ]
  },
  {
   "cell_type": "code",
   "execution_count": 16,
   "id": "2940c0fb",
   "metadata": {},
   "outputs": [
    {
     "data": {
      "text/plain": [
       "0"
      ]
     },
     "execution_count": 16,
     "metadata": {},
     "output_type": "execute_result"
    }
   ],
   "source": [
    "alter_query1 = (\"ALTER TABLE `Tweets` ADD CONSTRAINT `Tweets_fk1` FOREIGN KEY (`Twitter_handle`)REFERENCES User(`Twitter_handle`)\")\n",
    "cursor.execute(alter_query1)"
   ]
  },
  {
   "cell_type": "code",
   "execution_count": 17,
   "id": "5e4b6d2d",
   "metadata": {},
   "outputs": [
    {
     "data": {
      "text/plain": [
       "0"
      ]
     },
     "execution_count": 17,
     "metadata": {},
     "output_type": "execute_result"
    }
   ],
   "source": [
    "alter_query2 = (\"ALTER TABLE `Tweet_Mentions`ADD CONSTRAINT `Tweet_Mentions_fk1` FOREIGN KEY (`tweet_id`)REFERENCES Tweets(`tweet_id`)\")\n",
    "cursor.execute(alter_query2)"
   ]
  },
  {
   "cell_type": "code",
   "execution_count": 18,
   "id": "8c7d8c5b",
   "metadata": {},
   "outputs": [
    {
     "data": {
      "text/plain": [
       "0"
      ]
     },
     "execution_count": 18,
     "metadata": {},
     "output_type": "execute_result"
    }
   ],
   "source": [
    "alter_query3 = (\"ALTER TABLE `Tweet_Mentions`ADD CONSTRAINT `Tweet_Mentions_fk2` FOREIGN KEY (`source_user`)REFERENCES User(`Twitter_handle`)\")\n",
    "cursor.execute(alter_query3)\n",
    "\n",
    "alter_query4 = (\"ALTER TABLE `Tweet_Mentions`ADD CONSTRAINT `Tweet_Mentions_fk3` FOREIGN KEY (`target_user`)REFERENCES User(`Twitter_handle`)\")\n",
    "cursor.execute(alter_query4)\n",
    "\n",
    "alter_query5 = (\"ALTER TABLE `Hospital_Account`ADD CONSTRAINT `Hospital_Account_fk1` FOREIGN KEY (`Twitter_handle`)REFERENCES User(`Twitter_handle`)\")\n",
    "cursor.execute(alter_query5)\n",
    "\n",
    "alter_query6 = (\"ALTER TABLE `Doctor`ADD CONSTRAINT `Doctor_fk1` FOREIGN KEY (`Twitter_handle`)REFERENCES User(`Twitter_handle`)\")\n",
    "cursor.execute(alter_query6)\n",
    "\n",
    "alter_query7 = (\"ALTER TABLE `Doctor`ADD CONSTRAINT `Doctor_fk2` FOREIGN KEY (`appointment_id`)REFERENCES Appointment(`appointment_id`)\")\n",
    "cursor.execute(alter_query7)  \n",
    "\n",
    "alter_query8 = (\"ALTER TABLE `Patient`ADD CONSTRAINT `Patient_fk1` FOREIGN KEY (`Twitter_handle`)REFERENCES User(`Twitter_handle`)\")\n",
    "cursor.execute(alter_query8)\n",
    "\n",
    "alter_query9 = (\"ALTER TABLE `Patient`ADD CONSTRAINT `Patient_fk2` FOREIGN KEY (`appointment_id`)REFERENCES Appointment(`appointment_id`)\")\n",
    "cursor.execute(alter_query9)\n",
    "\n",
    "\n",
    "alter_query10 = (\"ALTER TABLE `Appointment`ADD CONSTRAINT `Appointment_fk1` FOREIGN KEY (`Twitter_handle`)REFERENCES User(`Twitter_handle`)\")\n",
    "cursor.execute(alter_query10)\n",
    "\n",
    "alter_query11 = (\"ALTER TABLE `Appointment`ADD CONSTRAINT `Appointment_fk2` FOREIGN KEY (`patient_id`)REFERENCES Patient(`patient_id`);\")\n",
    "cursor.execute(alter_query11)\n",
    "\n",
    "alter_query12 = (\"ALTER TABLE `Appointment`ADD CONSTRAINT `Appointment_fk3` FOREIGN KEY (`doctor_id`)REFERENCES Doctor(`doctor_id`)\")\n",
    "cursor.execute(alter_query12)\n",
    "\n",
    "alter_query13 = (\"ALTER TABLE `Payment`ADD CONSTRAINT `Payment_fk1` FOREIGN KEY (`Twitter_handle`)REFERENCES User(`Twitter_handle`)\")\n",
    "cursor.execute(alter_query13)\n",
    "\n",
    "alter_query14 = (\"ALTER TABLE `Payment`ADD CONSTRAINT `Payment_fk2` FOREIGN KEY (`appointment_id`)REFERENCES Appointment(`appointment_id`)\")\n",
    "cursor.execute(alter_query14)       \n",
    "\n",
    "alter_query15 = (\"ALTER TABLE `Tweet_Url`ADD CONSTRAINT `Tweet_Url_fk1` FOREIGN KEY (`tweet_id`)REFERENCES Tweets(`tweet_id`)\")\n",
    "cursor.execute(alter_query15)"
   ]
  },
  {
   "cell_type": "code",
   "execution_count": null,
   "id": "607fa5cf",
   "metadata": {},
   "outputs": [],
   "source": [
    "cursor.execute()"
   ]
  }
 ],
 "metadata": {
  "kernelspec": {
   "display_name": "Python 3 (ipykernel)",
   "language": "python",
   "name": "python3"
  },
  "language_info": {
   "codemirror_mode": {
    "name": "ipython",
    "version": 3
   },
   "file_extension": ".py",
   "mimetype": "text/x-python",
   "name": "python",
   "nbconvert_exporter": "python",
   "pygments_lexer": "ipython3",
   "version": "3.9.13"
  }
 },
 "nbformat": 4,
 "nbformat_minor": 5
}
