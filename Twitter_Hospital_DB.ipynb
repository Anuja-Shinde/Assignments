{
 "cells": [
  {
   "cell_type": "code",
   "execution_count": 1,
   "id": "5c032cd1",
   "metadata": {},
   "outputs": [
    {
     "name": "stdout",
     "output_type": "stream",
     "text": [
      "Requirement already satisfied: SQLAlchemy in /Users/romiltiwari/opt/anaconda3/lib/python3.9/site-packages (1.4.39)\n",
      "Requirement already satisfied: greenlet!=0.4.17 in /Users/romiltiwari/opt/anaconda3/lib/python3.9/site-packages (from SQLAlchemy) (1.1.1)\n",
      "Note: you may need to restart the kernel to use updated packages.\n"
     ]
    }
   ],
   "source": [
    "pip install SQLAlchemy"
   ]
  },
  {
   "cell_type": "code",
   "execution_count": 4,
   "id": "69813ce3",
   "metadata": {},
   "outputs": [
    {
     "name": "stdout",
     "output_type": "stream",
     "text": [
      "Collecting pymysql\n",
      "  Downloading PyMySQL-1.0.2-py3-none-any.whl (43 kB)\n",
      "\u001b[2K     \u001b[90m━━━━━━━━━━━━━━━━━━━━━━━━━━━━━━━━━━━━━━━\u001b[0m \u001b[32m43.8/43.8 kB\u001b[0m \u001b[31m268.7 kB/s\u001b[0m eta \u001b[36m0:00:00\u001b[0ma \u001b[36m0:00:01\u001b[0m\n",
      "\u001b[?25hInstalling collected packages: pymysql\n",
      "Successfully installed pymysql-1.0.2\n",
      "Note: you may need to restart the kernel to use updated packages.\n"
     ]
    }
   ],
   "source": [
    "pip install pymysql"
   ]
  },
  {
   "cell_type": "code",
   "execution_count": 9,
   "id": "cf7ce4e0",
   "metadata": {},
   "outputs": [
    {
     "data": {
      "text/plain": [
       "0"
      ]
     },
     "execution_count": 9,
     "metadata": {},
     "output_type": "execute_result"
    }
   ],
   "source": [
    "import pymysql\n",
    "pymysql.install_as_MySQLdb()\n",
    "import MySQLdb\n",
    "import xlrd\n",
    "database = MySQLdb.connect(host = \"localhost\", user = \"root\", passwd = \"Boston@123\", db =\"hospital_list\")\n",
    "cursor = database.cursor()\n",
    "\n",
    "hospital_twitter_table = (\"CREATE TABLE IF NOT EXISTS `User` (`Twitter_handle` VARCHAR(10),`name` VARCHAR(20),`profile_image_url` VARCHAR(200),`description` VARCHAR(100),`followers_count` INT,`following_count` INT,PRIMARY KEY (`Twitter_handle`))\")\n",
    "cursor.execute(hospital_twitter_table)\n",
    "\n",
    "hospital_tweets = (\"CREATE TABLE IF NOT EXISTS `Tweets` (`tweet_id` INT NOT NULL AUTO_INCREMENT,`Twitter_handle` VARCHAR(10),`tweet_text` VARCHAR(140),`profile_image_url` VARCHAR(200),`created_at` DATETIME,PRIMARY KEY (`tweet_id`))\")\n",
    "cursor.execute(hospital_tweets)\n",
    "\n",
    "\n",
    "hospital_tweets_table = (\"CREATE TABLE IF NOT EXISTS `Tweet_Tags` (`tweet_id` INT NOT NULL,`tags` VARCHAR(20),PRIMARY KEY (`tweet_id`))\")\n",
    "cursor.execute(hospital_tweets_table)\n",
    "\n",
    "hospital_tweet_mention = (\"CREATE TABLE IF NOT EXISTS `Tweet_Mentions` (`tweet_id` INT NOT NULL,`source_user` VARCHAR(10),`target_user` VARCHAR(10),PRIMARY KEY (`tweet_id`))\")\n",
    "cursor.execute(hospital_tweet_mention)\n",
    "\n"
   ]
  },
  {
   "cell_type": "code",
   "execution_count": 14,
   "id": "41a92715",
   "metadata": {},
   "outputs": [
    {
     "data": {
      "text/plain": [
       "0"
      ]
     },
     "execution_count": 14,
     "metadata": {},
     "output_type": "execute_result"
    }
   ],
   "source": [
    "hospital_tweet_url = (\"CREATE TABLE IF NOT EXISTS `Tweet_Url` (`tweet_id` INT NOT NULL,‘product_url’ VARCHAR(200),PRIMARY KEY (`tweet_id`))\")\n",
    "cursor.execute(hospital_tweet_url)\n",
    "\n"
   ]
  },
  {
   "cell_type": "code",
   "execution_count": 16,
   "id": "445f2b90",
   "metadata": {},
   "outputs": [
    {
     "data": {
      "text/plain": [
       "0"
      ]
     },
     "execution_count": 16,
     "metadata": {},
     "output_type": "execute_result"
    }
   ],
   "source": [
    "hospital_account  = (\"CREATE TABLE IF NOT EXISTS `Hospital_Account` (`Twitter_handle` VARCHAR(10) NOT NULL,`login` VARCHAR(10),`password` VARCHAR(10),PRIMARY KEY (`Twitter_handle`))\")\n",
    "cursor.execute(hospital_account)\n",
    "\n",
    "\n",
    "hospital_patient = (\"CREATE TABLE IF NOT EXISTS `Patient` (`patient_id` INT NOT NULL AUTO_INCREMENT,`patient_name` VARCHAR(20),`patient_email` VARCHAR(20),`patient_phone` INT,`department_schedule` VARCHAR(20),`Twitter_handle` VARCHAR(10),`appointment_id` INT,PRIMARY KEY (`patient_id`))\")\n",
    "cursor.execute(hospital_patient)\n",
    "\n",
    "hospital_doctor = (\"CREATE TABLE IF NOT EXISTS `Doctor` (`doctor_id` INT NOT NULL AUTO_INCREMENT,`doctor_name` VARCHAR(20),`doctor_speciality` VARCHAR(20),`doctor_location` VARCHAR(100),`doctor_language` VARCHAR(20),`doctor_gender` VARCHAR(20),`Twitter_handle` VARCHAR(10),`appointment_id` INT,PRIMARY KEY (`doctor_id`))\")\n",
    "cursor.execute(hospital_doctor)\n",
    "\n",
    "\n"
   ]
  },
  {
   "cell_type": "code",
   "execution_count": 18,
   "id": "04a146ad",
   "metadata": {},
   "outputs": [
    {
     "data": {
      "text/plain": [
       "0"
      ]
     },
     "execution_count": 18,
     "metadata": {},
     "output_type": "execute_result"
    }
   ],
   "source": [
    "hospital_appointment = (\"CREATE TABLE IF NOT EXISTS `Appointment` (`appointment_id` INT NOT NULL AUTO_INCREMENT,`appointment_reason` VARCHAR(100),`appointment_date` DATE,`Twitter_handle` VARCHAR(10),`patient_id` INT, `doctor_id` INT,PRIMARY KEY (`appointment_id`))\")\n",
    "cursor.execute(hospital_appointment)\n",
    "\n",
    "hospital_payment = (\"CREATE TABLE IF NOT EXISTS `Payment` (`payment_id` INT NOT NULL AUTO_INCREMENT,`payment_details` VARCHAR(100),`payment_date` DATE,`total_amount` INT,`Twitter_handle` VARCHAR(10),`appointment_id` INT,PRIMARY KEY (`payment_id`))\")\n",
    "cursor.execute(hospital_payment)\n",
    "\n",
    "\n",
    "\n"
   ]
  },
  {
   "cell_type": "code",
   "execution_count": 19,
   "id": "bb88556a",
   "metadata": {},
   "outputs": [
    {
     "data": {
      "text/plain": [
       "0"
      ]
     },
     "execution_count": 19,
     "metadata": {},
     "output_type": "execute_result"
    }
   ],
   "source": [
    "alter_query = (\"ALTER TABLE `Tweet_Tags`ADD CONSTRAINT `Tweet_Tags_fk1` FOREIGN KEY (`tweet_id`)REFERENCES Tweets(`tweet_id`)\")\n",
    "cursor.execute(alter_query)\n"
   ]
  },
  {
   "cell_type": "code",
   "execution_count": 20,
   "id": "dc112d47",
   "metadata": {},
   "outputs": [
    {
     "data": {
      "text/plain": [
       "0"
      ]
     },
     "execution_count": 20,
     "metadata": {},
     "output_type": "execute_result"
    }
   ],
   "source": [
    "alter_query1 = (\"ALTER TABLE `Tweets` ADD CONSTRAINT `Tweets_fk1` FOREIGN KEY (`Twitter_handle`)REFERENCES User(`Twitter_handle`)\")\n",
    "cursor.execute(alter_query1)\n"
   ]
  },
  {
   "cell_type": "code",
   "execution_count": 21,
   "id": "795b3b10",
   "metadata": {},
   "outputs": [
    {
     "data": {
      "text/plain": [
       "0"
      ]
     },
     "execution_count": 21,
     "metadata": {},
     "output_type": "execute_result"
    }
   ],
   "source": [
    "alter_query2 = (\"ALTER TABLE `Tweet_Mentions`ADD CONSTRAINT `Tweet_Mentions_fk1` FOREIGN KEY (`tweet_id`)REFERENCES Tweets(`tweet_id`)\")\n",
    "cursor.execute(alter_query2)"
   ]
  },
  {
   "cell_type": "code",
   "execution_count": 22,
   "id": "10e32b89",
   "metadata": {},
   "outputs": [
    {
     "data": {
      "text/plain": [
       "0"
      ]
     },
     "execution_count": 22,
     "metadata": {},
     "output_type": "execute_result"
    }
   ],
   "source": [
    "alter_query3 = (\"ALTER TABLE `Tweet_Mentions`ADD CONSTRAINT `Tweet_Mentions_fk2` FOREIGN KEY (`source_user`)REFERENCES User(`Twitter_handle`)\")\n",
    "cursor.execute(alter_query3)\n"
   ]
  },
  {
   "cell_type": "code",
   "execution_count": 23,
   "id": "435fc25f",
   "metadata": {},
   "outputs": [
    {
     "data": {
      "text/plain": [
       "0"
      ]
     },
     "execution_count": 23,
     "metadata": {},
     "output_type": "execute_result"
    }
   ],
   "source": [
    "alter_query4 = (\"ALTER TABLE `Tweet_Mentions`ADD CONSTRAINT `Tweet_Mentions_fk3` FOREIGN KEY (`target_user`)REFERENCES User(`Twitter_handle`)\")\n",
    "cursor.execute(alter_query4)"
   ]
  },
  {
   "cell_type": "code",
   "execution_count": 25,
   "id": "4374eff6",
   "metadata": {},
   "outputs": [
    {
     "data": {
      "text/plain": [
       "0"
      ]
     },
     "execution_count": 25,
     "metadata": {},
     "output_type": "execute_result"
    }
   ],
   "source": [
    "alter_query4 = (\"ALTER TABLE `Tweet_Url`ADD CONSTRAINT `Tweet_Url_fk1` FOREIGN KEY (`tweet_id`)REFERENCES Tweets(`tweet_id`)\")\n",
    "cursor.execute(alter_query4)\n"
   ]
  },
  {
   "cell_type": "code",
   "execution_count": 26,
   "id": "c924caa3",
   "metadata": {},
   "outputs": [
    {
     "data": {
      "text/plain": [
       "0"
      ]
     },
     "execution_count": 26,
     "metadata": {},
     "output_type": "execute_result"
    }
   ],
   "source": [
    "alter_query5 = (\"ALTER TABLE `Hospital_Account`ADD CONSTRAINT `Hospital_Account_fk1` FOREIGN KEY (`Twitter_handle`)REFERENCES User(`Twitter_handle`)\")\n",
    "cursor.execute(alter_query5)"
   ]
  },
  {
   "cell_type": "code",
   "execution_count": 27,
   "id": "4111fedc",
   "metadata": {},
   "outputs": [
    {
     "data": {
      "text/plain": [
       "0"
      ]
     },
     "execution_count": 27,
     "metadata": {},
     "output_type": "execute_result"
    }
   ],
   "source": [
    "alter_query6 = (\"ALTER TABLE `Doctor`ADD CONSTRAINT `Doctor_fk1` FOREIGN KEY (`Twitter_handle`)REFERENCES User(`Twitter_handle`)\")\n",
    "cursor.execute(alter_query6)"
   ]
  },
  {
   "cell_type": "code",
   "execution_count": 28,
   "id": "db422016",
   "metadata": {},
   "outputs": [
    {
     "data": {
      "text/plain": [
       "0"
      ]
     },
     "execution_count": 28,
     "metadata": {},
     "output_type": "execute_result"
    }
   ],
   "source": [
    "alter_query7 = (\"ALTER TABLE `Doctor`ADD CONSTRAINT `Doctor_fk2` FOREIGN KEY (`appointment_id`)REFERENCES Appointment(`appointment_id`)\")\n",
    "cursor.execute(alter_query7)  "
   ]
  },
  {
   "cell_type": "code",
   "execution_count": 29,
   "id": "eabb5133",
   "metadata": {},
   "outputs": [
    {
     "data": {
      "text/plain": [
       "0"
      ]
     },
     "execution_count": 29,
     "metadata": {},
     "output_type": "execute_result"
    }
   ],
   "source": [
    "alter_query8 = (\"ALTER TABLE `Patient`ADD CONSTRAINT `Patient_fk1` FOREIGN KEY (`Twitter_handle`)REFERENCES User(`Twitter_handle`)\")\n",
    "cursor.execute(alter_query8)"
   ]
  },
  {
   "cell_type": "code",
   "execution_count": 30,
   "id": "d889c5c8",
   "metadata": {},
   "outputs": [
    {
     "data": {
      "text/plain": [
       "0"
      ]
     },
     "execution_count": 30,
     "metadata": {},
     "output_type": "execute_result"
    }
   ],
   "source": [
    "alter_query9 = (\"ALTER TABLE `Patient`ADD CONSTRAINT `Patient_fk2` FOREIGN KEY (`appointment_id`)REFERENCES Appointment(`appointment_id`)\")\n",
    "cursor.execute(alter_query9)"
   ]
  },
  {
   "cell_type": "code",
   "execution_count": 31,
   "id": "500a96e2",
   "metadata": {},
   "outputs": [
    {
     "data": {
      "text/plain": [
       "0"
      ]
     },
     "execution_count": 31,
     "metadata": {},
     "output_type": "execute_result"
    }
   ],
   "source": [
    "alter_query10 = (\"ALTER TABLE `Appointment`ADD CONSTRAINT `Appointment_fk1` FOREIGN KEY (`Twitter_handle`)REFERENCES User(`Twitter_handle`)\")\n",
    "cursor.execute(alter_query10)\n"
   ]
  },
  {
   "cell_type": "code",
   "execution_count": 32,
   "id": "8e73439e",
   "metadata": {},
   "outputs": [
    {
     "data": {
      "text/plain": [
       "0"
      ]
     },
     "execution_count": 32,
     "metadata": {},
     "output_type": "execute_result"
    }
   ],
   "source": [
    "alter_query11 = (\"ALTER TABLE `Appointment`ADD CONSTRAINT `Appointment_fk2` FOREIGN KEY (`patient_id`)REFERENCES Patient(`patient_id`);\")\n",
    "cursor.execute(alter_query11)\n"
   ]
  },
  {
   "cell_type": "code",
   "execution_count": 33,
   "id": "2e0cad1b",
   "metadata": {},
   "outputs": [
    {
     "data": {
      "text/plain": [
       "0"
      ]
     },
     "execution_count": 33,
     "metadata": {},
     "output_type": "execute_result"
    }
   ],
   "source": [
    "alter_query12 = (\"ALTER TABLE `Appointment`ADD CONSTRAINT `Appointment_fk3` FOREIGN KEY (`doctor_id`)REFERENCES Doctor(`doctor_id`)\")\n",
    "cursor.execute(alter_query12)"
   ]
  },
  {
   "cell_type": "code",
   "execution_count": 34,
   "id": "3acd4ee1",
   "metadata": {},
   "outputs": [
    {
     "data": {
      "text/plain": [
       "0"
      ]
     },
     "execution_count": 34,
     "metadata": {},
     "output_type": "execute_result"
    }
   ],
   "source": [
    "alter_query13 = (\"ALTER TABLE `Payment`ADD CONSTRAINT `Payment_fk1` FOREIGN KEY (`Twitter_handle`)REFERENCES User(`Twitter_handle`)\")\n",
    "cursor.execute(alter_query13)"
   ]
  },
  {
   "cell_type": "code",
   "execution_count": 35,
   "id": "b37d09ee",
   "metadata": {},
   "outputs": [
    {
     "data": {
      "text/plain": [
       "0"
      ]
     },
     "execution_count": 35,
     "metadata": {},
     "output_type": "execute_result"
    }
   ],
   "source": [
    "alter_query14 = (\"ALTER TABLE `Payment`ADD CONSTRAINT `Payment_fk2` FOREIGN KEY (`appointment_id`)REFERENCES Appointment(`appointment_id`)\")\n",
    "cursor.execute(alter_query14)                 "
   ]
  },
  {
   "cell_type": "code",
   "execution_count": null,
   "id": "5ac8f6b4",
   "metadata": {},
   "outputs": [],
   "source": []
  }
 ],
 "metadata": {
  "kernelspec": {
   "display_name": "Python 3 (ipykernel)",
   "language": "python",
   "name": "python3"
  },
  "language_info": {
   "codemirror_mode": {
    "name": "ipython",
    "version": 3
   },
   "file_extension": ".py",
   "mimetype": "text/x-python",
   "name": "python",
   "nbconvert_exporter": "python",
   "pygments_lexer": "ipython3",
   "version": "3.9.13"
  }
 },
 "nbformat": 4,
 "nbformat_minor": 5
}
